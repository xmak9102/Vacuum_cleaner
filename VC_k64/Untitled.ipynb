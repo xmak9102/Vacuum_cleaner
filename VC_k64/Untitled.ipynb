{
 "cells": [
  {
   "cell_type": "code",
   "execution_count": 1,
   "metadata": {},
   "outputs": [
    {
     "data": {
      "image/png": "[encoded data removed]",
      "text/plain": [
       "<Figure size 432x288 with 2 Axes>"
      ]
     },
     "metadata": {},
     "output_type": "display_data"
    }
   ],
   "source": [
    "import VC_Solver\n",
    "from Map import Map_Creator\n",
    "import os\n",
    "\n",
    "\n",
    "savefig_path = os.path.realpath(\"Result\")\n",
    "filtered_files = os.listdir(savefig_path)\n",
    "for file in filtered_files:\n",
    "    path_to_file = os.path.join(savefig_path, file)\n",
    "    os.remove(path_to_file)\n",
    "\n",
    "m = 3\n",
    "n = 5\n",
    "mc = Map_Creator.map_creator(m, n)\n",
    "mc.create_map(pd=[0.1, 0.3, 0.3, 0.2, 0.1])\n",
    "obj = mc.getobj()\n",
    "map = mc.getmap()\n",
    "\n",
    "model = VC_Solver.VC_solver(m, n, map, obj)\n",
    "model.addSolver(method=['BFS', 'As'])\n",
    "model.solve()\n",
    "model.plotMovement()\n"
   ]
  },
  {
   "cell_type": "code",
   "execution_count": null,
   "metadata": {},
   "outputs": [],
   "source": []
  }
 ],
 "metadata": {
  "kernelspec": {
   "display_name": "Python 3",
   "language": "python",
   "name": "python3"
  },
  "language_info": {
   "codemirror_mode": {
    "name": "ipython",
    "version": 3
   },
   "file_extension": ".py",
   "mimetype": "text/x-python",
   "name": "python",
   "nbconvert_exporter": "python",
   "pygments_lexer": "ipython3",
   "version": "3.8.5"
  }
 },
 "nbformat": 4,
 "nbformat_minor": 4
}
